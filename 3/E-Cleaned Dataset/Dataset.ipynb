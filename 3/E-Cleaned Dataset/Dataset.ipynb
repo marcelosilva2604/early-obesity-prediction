{
 "cells": [
  {
   "cell_type": "code",
   "execution_count": 1,
   "id": "b3ea20bb",
   "metadata": {},
   "outputs": [],
   "source": [
    "import pandas as pd\n",
    "\n",
    "df = pd.read_csv('/Users/marcelosilva/Desktop/projectOne/3/D-Variable Analysis/CleanDataset.csv')"
   ]
  },
  {
   "cell_type": "code",
   "execution_count": 2,
   "id": "5f7f5225",
   "metadata": {},
   "outputs": [
    {
     "name": "stdout",
     "output_type": "stream",
     "text": [
      "Missing values in numeric columns:\n",
      "Series([], dtype: int64)\n",
      "\n",
      "==================================================\n",
      "\n",
      "Unique values in categorical columns:\n",
      "\n",
      "b02_sexo:\n",
      "b02_sexo\n",
      "Masculino    2180\n",
      "Feminino     2107\n",
      "Name: count, dtype: int64\n",
      "\n",
      "d01_cor:\n",
      "d01_cor\n",
      "Parda (mulata, cabocla, cafuza, mameluca ou mestiça)    2237\n",
      "Branca                                                  1734\n",
      "Preta                                                    289\n",
      "Amarela (origem japonesa, chinesa, coreana etc.)          19\n",
      "Indígena                                                   8\n",
      "Name: count, dtype: int64\n",
      "\n",
      "h04_parto:\n",
      "h04_parto\n",
      "Normal                                  2158\n",
      "Cesariana de urgência (Não agendada)    1124\n",
      "Cesariana agendada (eletiva)            1005\n",
      "Name: count, dtype: int64\n",
      "\n",
      "j03_cor:\n",
      "j03_cor\n",
      "Parda (mulata, cabocla, cafuza, mameluca ou mestiça)    2379\n",
      "Branca                                                  1315\n",
      "Preta                                                    541\n",
      "Amarela (origem japonesa, chinesa, coreana etc.)          35\n",
      "Indígena                                                  17\n",
      "Name: count, dtype: int64\n",
      "\n",
      "k13_tempo_medida:\n",
      "k13_tempo_medida\n",
      "Horas    3829\n",
      "Dias      458\n",
      "Name: count, dtype: int64\n",
      "\n",
      "k15_recebeu:\n",
      "k15_recebeu\n",
      "Não    3352\n",
      "Sim     935\n",
      "Name: count, dtype: int64\n",
      "\n",
      "k16_liquido:\n",
      "k16_liquido\n",
      "Não    3640\n",
      "Sim     647\n",
      "Name: count, dtype: int64\n",
      "\n",
      "k19_somente_medida:\n",
      "k19_somente_medida\n",
      "Meses    3836\n",
      "Dias      451\n",
      "Name: count, dtype: int64\n"
     ]
    }
   ],
   "source": [
    "# Check numeric columns for NaN values\n",
    "numeric_nulls = df.select_dtypes(include=['float64', 'int64']).isnull().sum()\n",
    "print(\"Missing values in numeric columns:\")\n",
    "print(numeric_nulls[numeric_nulls > 0])  # Only show columns with missing values\n",
    "print(\"\\n\" + \"=\"*50 + \"\\n\")\n",
    "\n",
    "# Check unique values in categorical columns\n",
    "categorical_cols = df.select_dtypes(include=['object']).columns\n",
    "print(\"Unique values in categorical columns:\")\n",
    "for col in categorical_cols:\n",
    "    print(f\"\\n{col}:\")\n",
    "    print(df[col].value_counts(dropna=False))"
   ]
  }
 ],
 "metadata": {
  "kernelspec": {
   "display_name": "base",
   "language": "python",
   "name": "python3"
  },
  "language_info": {
   "codemirror_mode": {
    "name": "ipython",
    "version": 3
   },
   "file_extension": ".py",
   "mimetype": "text/x-python",
   "name": "python",
   "nbconvert_exporter": "python",
   "pygments_lexer": "ipython3",
   "version": "3.12.2"
  }
 },
 "nbformat": 4,
 "nbformat_minor": 5
}
