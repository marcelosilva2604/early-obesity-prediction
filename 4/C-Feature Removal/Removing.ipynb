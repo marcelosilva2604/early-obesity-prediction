{
 "cells": [
  {
   "cell_type": "markdown",
   "id": "d2f1e31f",
   "metadata": {},
   "source": [
    "# Feature Removal Process\n",
    "\n",
    "This code implements a systematic approach to remove specific variables from our dataset. Here's what the process entails:\n",
    "\n",
    "## Function Overview\n",
    "The `remove_specified_variables()` function performs the following operations:\n",
    "\n",
    "1. **Path Configuration**\n",
    "    - Input: `FeaturedDataset_Corrected.csv`\n",
    "    - Output: Creates a new file `DatasetRemoval.csv`\n",
    "\n",
    "2. **Variables Targeted for Removal**\n",
    "    - Age-related variables: `b04_idade`, `bb04_idade_da_mae`\n",
    "    - Time measurements: `k12_tempo`, `k13_tempo_medida`\n",
    "    - Specific measurements: `k18_somente`, `k19_somente_medida`\n",
    "    - Height measurements: `t06_altura_medida2`, `t05_altura_medida1`\n",
    "\n",
    "3. **Process Steps**\n",
    "    - Loads the original dataset\n",
    "    - Identifies existing variables from the removal list\n",
    "    - Removes the specified variables\n",
    "    - Saves the cleaned dataset to a new file\n",
    "\n",
    "4. **Output Information**\n",
    "    - Displays the dimensions of the dataset before and after cleaning\n",
    "    - Confirms the save location\n",
    "    - Returns the cleaned DataFrame\n",
    "\n",
    "## Error Handling\n",
    "Includes comprehensive error handling to manage potential issues during execution."
   ]
  },
  {
   "cell_type": "code",
   "execution_count": 1,
   "id": "b138b9a0",
   "metadata": {},
   "outputs": [
    {
     "name": "stdout",
     "output_type": "stream",
     "text": [
      "Dataset carregado: 4287 linhas × 46 colunas\n",
      "Removendo 8 variáveis...\n",
      "Dataset salvo: 4287 linhas × 38 colunas\n",
      "Local: /Users/marcelosilva/Desktop/projectOne/4/C-Feature Removal/DatasetRemoval.csv\n"
     ]
    }
   ],
   "source": [
    "import pandas as pd\n",
    "import os\n",
    "\n",
    "def remove_specified_variables():\n",
    "    \"\"\"\n",
    "    Remove variáveis específicas do dataset\n",
    "    \"\"\"\n",
    "    \n",
    "    # Configuração de caminhos\n",
    "    input_path = '/Users/marcelosilva/Desktop/projectOne/4/B-Intern Feature Engeneering/FeaturedDataset_Corrected.csv'\n",
    "    output_dir = '/Users/marcelosilva/Desktop/projectOne/4/C-Feature Removal'\n",
    "    output_path = os.path.join(output_dir, 'DatasetRemoval.csv')\n",
    "    \n",
    "    # Criar diretório se não existir\n",
    "    os.makedirs(output_dir, exist_ok=True)\n",
    "    \n",
    "    try:\n",
    "        # Carregar dataset\n",
    "        df = pd.read_csv(input_path)\n",
    "        print(f\"Dataset carregado: {df.shape[0]} linhas × {df.shape[1]} colunas\")\n",
    "        \n",
    "        # Lista de variáveis para remover\n",
    "        variables_to_remove = [\n",
    "            'b04_idade',\n",
    "            'bb04_idade_da_mae',\n",
    "            'k12_tempo',\n",
    "            'k13_tempo_medida',\n",
    "            'k18_somente',\n",
    "            'k19_somente_medida',\n",
    "            't06_altura_medida2',\n",
    "            't05_altura_medida1'\n",
    "        ]\n",
    "        \n",
    "        # Verificar quais existem\n",
    "        variables_found = [var for var in variables_to_remove if var in df.columns]\n",
    "        \n",
    "        print(f\"Removendo {len(variables_found)} variáveis...\")\n",
    "        \n",
    "        # Remover variáveis\n",
    "        df_clean = df.drop(columns=variables_found)\n",
    "        \n",
    "        # Salvar\n",
    "        df_clean.to_csv(output_path, index=False)\n",
    "        \n",
    "        print(f\"Dataset salvo: {df_clean.shape[0]} linhas × {df_clean.shape[1]} colunas\")\n",
    "        print(f\"Local: {output_path}\")\n",
    "        \n",
    "        return df_clean\n",
    "        \n",
    "    except Exception as e:\n",
    "        print(f\"Erro: {e}\")\n",
    "        return None\n",
    "\n",
    "if __name__ == \"__main__\":\n",
    "    remove_specified_variables()"
   ]
  }
 ],
 "metadata": {
  "kernelspec": {
   "display_name": "base",
   "language": "python",
   "name": "python3"
  },
  "language_info": {
   "codemirror_mode": {
    "name": "ipython",
    "version": 3
   },
   "file_extension": ".py",
   "mimetype": "text/x-python",
   "name": "python",
   "nbconvert_exporter": "python",
   "pygments_lexer": "ipython3",
   "version": "3.12.2"
  }
 },
 "nbformat": 4,
 "nbformat_minor": 5
}
