{
 "cells": [
  {
   "cell_type": "code",
   "execution_count": 1,
   "id": "51791db7",
   "metadata": {},
   "outputs": [
    {
     "name": "stdout",
     "output_type": "stream",
     "text": [
      "✅ Todas as variáveis do chunk têm descrição no dicionário.\n",
      "Dicionário salvo em: /Users/marcelosilva/Desktop/projectOne/2/D-Correlation24MoxFeatures300-326/variaveis_descritas_chunk_200-300.txt\n"
     ]
    }
   ],
   "source": [
    "import pandas as pd\n",
    "\n",
    "# Carregar o chunk de variáveis (exemplo com 0-100)\n",
    "df_chunk = pd.read_csv('//Users/marcelosilva/Desktop/projectOne/2/D-Correlation24MoxFeatures300-326/D-Correlation24MoxFeatures300-326.csv')\n",
    "\n",
    "# Carregar o dicionário de variáveis\n",
    "dic_path = '/Users/marcelosilva/Desktop/projectOne/1/D-Data Characteristics/variaveis_descritas_90pct.txt'\n",
    "df_dic = pd.read_csv(dic_path, sep=\"\\t\")  # ou ajuste para sep=\",\" se necessário\n",
    "\n",
    "# Ajustar nome das colunas se necessário\n",
    "df_dic.columns = ['variavel', 'descricao']\n",
    "\n",
    "# Filtrar apenas as variáveis do chunk (exceto id_anon)\n",
    "variaveis_chunk = df_chunk.columns.tolist()\n",
    "variaveis_chunk = [var for var in variaveis_chunk if var != 'id_anon']\n",
    "\n",
    "# Gerar dicionário filtrado\n",
    "df_dic_filtrado = df_dic[df_dic['variavel'].isin(variaveis_chunk)].copy()\n",
    "\n",
    "# Verificar variáveis sem descrição\n",
    "variaveis_sem_descricao = set(variaveis_chunk) - set(df_dic_filtrado['variavel'])\n",
    "if variaveis_sem_descricao:\n",
    "    print(\"⚠️ Variáveis do chunk sem descrição no dicionário:\")\n",
    "    print(sorted(variaveis_sem_descricao))\n",
    "else:\n",
    "    print(\"✅ Todas as variáveis do chunk têm descrição no dicionário.\")\n",
    "\n",
    "# Resetar índice para salvar limpo\n",
    "df_dic_filtrado = df_dic_filtrado.reset_index(drop=True)\n",
    "\n",
    "# Salvar em TXT no local desejado\n",
    "output_path = '/Users/marcelosilva/Desktop/projectOne/2/D-Correlation24MoxFeatures300-326/variaveis_descritas_chunk_200-300.txt'\n",
    "df_dic_filtrado.to_csv(output_path, sep=\"\\t\", index=False)\n",
    "\n",
    "print(f\"Dicionário salvo em: {output_path}\")"
   ]
  }
 ],
 "metadata": {
  "kernelspec": {
   "display_name": "base",
   "language": "python",
   "name": "python3"
  },
  "language_info": {
   "codemirror_mode": {
    "name": "ipython",
    "version": 3
   },
   "file_extension": ".py",
   "mimetype": "text/x-python",
   "name": "python",
   "nbconvert_exporter": "python",
   "pygments_lexer": "ipython3",
   "version": "3.12.2"
  }
 },
 "nbformat": 4,
 "nbformat_minor": 5
}
