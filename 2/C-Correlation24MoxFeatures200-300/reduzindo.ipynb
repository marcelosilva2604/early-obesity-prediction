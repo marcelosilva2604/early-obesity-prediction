{
 "cells": [
  {
   "cell_type": "code",
   "execution_count": 1,
   "id": "97aa67a7",
   "metadata": {},
   "outputs": [
    {
     "name": "stdout",
     "output_type": "stream",
     "text": [
      "✅ Chunk C reduzido salvo em: /Users/marcelosilva/Desktop/projectOne/2/C-Correlation24MoxFeatures200-300/C-Correlation24MoxFeatures200-300-REDUZIDO.csv\n"
     ]
    }
   ],
   "source": [
    "import pandas as pd\n",
    "\n",
    "# Caminho do chunk C original\n",
    "input_path_c = '/Users/marcelosilva/Desktop/projectOne/2/C-Correlation24MoxFeatures200-300/C-Correlation24MoxFeatures200-300.csv'\n",
    "\n",
    "# Carregar o chunk C\n",
    "df_chunk_c = pd.read_csv(input_path_c)\n",
    "\n",
    "# Variáveis a serem mantidas\n",
    "retained_variables = [\n",
    "    'id_anon',\n",
    "    't05_altura_medida1',  # Mother's height measurement 1 (cm)\n",
    "    't06_altura_medida2'   # Mother's height measurement 2 (cm)\n",
    "]\n",
    "\n",
    "# Filtrar o dataframe\n",
    "df_reduzido_c = df_chunk_c[retained_variables]\n",
    "\n",
    "# Caminho de saída (arquivo novo, não sobrescreve o original)\n",
    "output_path_c = '/Users/marcelosilva/Desktop/projectOne/2/C-Correlation24MoxFeatures200-300/C-Correlation24MoxFeatures200-300-REDUZIDO.csv'\n",
    "\n",
    "# Salvar o arquivo reduzido\n",
    "df_reduzido_c.to_csv(output_path_c, index=False)\n",
    "\n",
    "print(f\"✅ Chunk C reduzido salvo em: {output_path_c}\")"
   ]
  }
 ],
 "metadata": {
  "kernelspec": {
   "display_name": "base",
   "language": "python",
   "name": "python3"
  },
  "language_info": {
   "codemirror_mode": {
    "name": "ipython",
    "version": 3
   },
   "file_extension": ".py",
   "mimetype": "text/x-python",
   "name": "python",
   "nbconvert_exporter": "python",
   "pygments_lexer": "ipython3",
   "version": "3.12.2"
  }
 },
 "nbformat": 4,
 "nbformat_minor": 5
}
