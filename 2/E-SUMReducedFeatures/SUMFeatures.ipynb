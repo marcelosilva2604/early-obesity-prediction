{
 "cells": [
  {
   "cell_type": "code",
   "execution_count": 1,
   "id": "dac0c8a2",
   "metadata": {},
   "outputs": [
    {
     "name": "stdout",
     "output_type": "stream",
     "text": [
      "✅ Dataset final salvo em: /Users/marcelosilva/Desktop/projectOne/2/E-SUMReducedFeatures/Dataset-Clean.csv\n"
     ]
    }
   ],
   "source": [
    "import pandas as pd\n",
    "\n",
    "# Caminhos dos datasets reduzidos\n",
    "path_a = '/Users/marcelosilva/Desktop/projectOne/2/A-Correlation24MoxFeatures0-100/A-Correlation24MoxFeatures0-100-REDUZIDO.csv'\n",
    "path_b = '/Users/marcelosilva/Desktop/projectOne/2/B-Correlation24MoxFeatures100-200/B-Correlation24MoxFeatures100-200-REDUZIDO.csv'\n",
    "path_c = '/Users/marcelosilva/Desktop/projectOne/2/C-Correlation24MoxFeatures200-300/C-Correlation24MoxFeatures200-300-REDUZIDO.csv'\n",
    "path_d = '/Users/marcelosilva/Desktop/projectOne/2/D-Correlation24MoxFeatures300-326/D-Correlation24MoxFeatures300-326-REDUZIDO.csv'\n",
    "\n",
    "# Carregar os datasets\n",
    "df_a = pd.read_csv(path_a)\n",
    "df_b = pd.read_csv(path_b)\n",
    "df_c = pd.read_csv(path_c)\n",
    "df_d = pd.read_csv(path_d)\n",
    "\n",
    "# Realizar o merge usando id_anon\n",
    "df_merged = df_a.merge(df_b, on='id_anon').merge(df_c, on='id_anon').merge(df_d, on='id_anon')\n",
    "\n",
    "# Caminho de saída\n",
    "output_path = '/Users/marcelosilva/Desktop/projectOne/2/E-SUMReducedFeatures/Dataset-Clean.csv'\n",
    "\n",
    "# Salvar o dataset final\n",
    "df_merged.to_csv(output_path, index=False)\n",
    "\n",
    "print(f\"✅ Dataset final salvo em: {output_path}\")"
   ]
  }
 ],
 "metadata": {
  "kernelspec": {
   "display_name": "base",
   "language": "python",
   "name": "python3"
  },
  "language_info": {
   "codemirror_mode": {
    "name": "ipython",
    "version": 3
   },
   "file_extension": ".py",
   "mimetype": "text/x-python",
   "name": "python",
   "nbconvert_exporter": "python",
   "pygments_lexer": "ipython3",
   "version": "3.12.2"
  }
 },
 "nbformat": 4,
 "nbformat_minor": 5
}
